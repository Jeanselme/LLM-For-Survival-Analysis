{
 "cells": [
  {
   "cell_type": "markdown",
   "metadata": {},
   "source": [
    "Extract all the data necessary for the analysis of TGCA\n",
    "To run, first download and extract in `data/` the following files:\n",
    "- Report: https://github.com/tatonetti-lab/tcga-path-reports/blob/main/TCGA_Reports.csv.zip\n",
    "- Outcomes: https://api.gdc.cancer.gov/data/1b5f413e-a8d1-4d10-92eb-7c4ae739ed81\n",
    "\n",
    "Then execute the following code"
   ]
  },
  {
   "cell_type": "code",
   "execution_count": 1,
   "metadata": {},
   "outputs": [],
   "source": [
    "import os\n",
    "import numpy as np\n",
    "import pandas as pd\n",
    "import matplotlib.pyplot as plt\n",
    "from sksurv.nonparametric import kaplan_meier_estimator"
   ]
  },
  {
   "cell_type": "code",
   "execution_count": 2,
   "metadata": {},
   "outputs": [],
   "source": [
    "assert os.path.isfile('data/TCGA_Reports.csv'), 'Reports not extractected or downloaded'\n",
    "assert os.path.isfile('data/TCGA-CDR-SupplementalTableS1.xlsx'), 'Outcomes not downloaded'"
   ]
  },
  {
   "cell_type": "markdown",
   "metadata": {},
   "source": [
    "### Explore outcomes"
   ]
  },
  {
   "cell_type": "code",
   "execution_count": 3,
   "metadata": {},
   "outputs": [],
   "source": [
    "# Open outcomes\n",
    "data = pd.read_excel('data/TCGA-CDR-SupplementalTableS1.xlsx', sheet_name = 'TCGA-CDR', index_col = 'bcr_patient_barcode')[['type', 'age_at_initial_pathologic_diagnosis', 'gender', 'race', 'ajcc_pathologic_tumor_stage', 'OS', 'OS.time']]"
   ]
  },
  {
   "cell_type": "code",
   "execution_count": 4,
   "metadata": {},
   "outputs": [],
   "source": [
    "# Open hospitals encoding - Used for the one hospital out (multiple analysis may happen in the same hospitals)\n",
    "hospitals_encoding = pd.read_excel('data/TCGA-CDR-SupplementalTableS1.xlsx', sheet_name = 'TSS_Info', skiprows = [0, 1], index_col = 0)\n",
    "hospitals_encoding.index = hospitals_encoding.index.astype(str)"
   ]
  },
  {
   "cell_type": "code",
   "execution_count": 5,
   "metadata": {},
   "outputs": [
    {
     "name": "stderr",
     "output_type": "stream",
     "text": [
      "/tmp/ipykernel_22464/2957332855.py:10: SettingWithCopyWarning: \n",
      "A value is trying to be set on a copy of a slice from a DataFrame\n",
      "\n",
      "See the caveats in the documentation: https://pandas.pydata.org/pandas-docs/stable/user_guide/indexing.html#returning-a-view-versus-a-copy\n",
      "  data.ajcc_pathologic_tumor_stage.loc[data.ajcc_pathologic_tumor_stage.str.contains('III', na = False)] = 3\n",
      "/tmp/ipykernel_22464/2957332855.py:11: SettingWithCopyWarning: \n",
      "A value is trying to be set on a copy of a slice from a DataFrame\n",
      "\n",
      "See the caveats in the documentation: https://pandas.pydata.org/pandas-docs/stable/user_guide/indexing.html#returning-a-view-versus-a-copy\n",
      "  data.ajcc_pathologic_tumor_stage.loc[data.ajcc_pathologic_tumor_stage.str.contains('II', na = False)] = 2\n",
      "/tmp/ipykernel_22464/2957332855.py:12: SettingWithCopyWarning: \n",
      "A value is trying to be set on a copy of a slice from a DataFrame\n",
      "\n",
      "See the caveats in the documentation: https://pandas.pydata.org/pandas-docs/stable/user_guide/indexing.html#returning-a-view-versus-a-copy\n",
      "  data.ajcc_pathologic_tumor_stage.loc[data.ajcc_pathologic_tumor_stage.str.contains('I', na = False)] = 1\n",
      "/tmp/ipykernel_22464/2957332855.py:13: SettingWithCopyWarning: \n",
      "A value is trying to be set on a copy of a slice from a DataFrame\n",
      "\n",
      "See the caveats in the documentation: https://pandas.pydata.org/pandas-docs/stable/user_guide/indexing.html#returning-a-view-versus-a-copy\n",
      "  data.ajcc_pathologic_tumor_stage.loc[data.ajcc_pathologic_tumor_stage.str.contains('X', na = False)] = np.nan\n"
     ]
    }
   ],
   "source": [
    "# Format data\n",
    "data = data.rename(columns = {'OS': 'e', 'OS.time': 't'})\n",
    "data['Hospital'] = data.index.to_series().apply(lambda x: x[5:7]).replace({'NA': np.nan})\n",
    "data = data.dropna()\n",
    "\n",
    "data = data.replace({'[Not Available]': np.nan, '[Not Evaluated]': np.nan, '[Unknown]': np.nan, '[Discrepancy]': np.nan, '[Not Applicable]': np.nan})\n",
    "\n",
    "data.gender = data.gender == 'MALE'\n",
    "data.race = data.race == 'WHITE'\n",
    "data.ajcc_pathologic_tumor_stage.loc[data.ajcc_pathologic_tumor_stage.str.contains('III', na = False)] = 3\n",
    "data.ajcc_pathologic_tumor_stage.loc[data.ajcc_pathologic_tumor_stage.str.contains('II', na = False)] = 2\n",
    "data.ajcc_pathologic_tumor_stage.loc[data.ajcc_pathologic_tumor_stage.str.contains('I', na = False)] = 1\n",
    "data.ajcc_pathologic_tumor_stage.loc[data.ajcc_pathologic_tumor_stage.str.contains('X', na = False)] = np.nan"
   ]
  },
  {
   "cell_type": "code",
   "execution_count": 6,
   "metadata": {},
   "outputs": [
    {
     "name": "stderr",
     "output_type": "stream",
     "text": [
      "/tmp/ipykernel_22464/1618343602.py:5: UserWarning: This pattern is interpreted as a regular expression, and has match groups. To actually get the groups, use str.extract.\n",
      "  hospitals_encoding['Source Site'].replace({to_replace: hospital for to_replace in short_list[short_list.str.contains(hospital)]}, inplace = True)\n"
     ]
    }
   ],
   "source": [
    "# Hopsitals cleaning (lot of naming is repeated)\n",
    "hospitals_encoding['Source Site'] = hospitals_encoding['Source Site'].str.lower()\n",
    "short_list = pd.Series(hospitals_encoding['Source Site'].unique())\n",
    "for hospital in short_list:\n",
    "    hospitals_encoding['Source Site'].replace({to_replace: hospital for to_replace in short_list[short_list.str.contains(hospital)]}, inplace = True)"
   ]
  },
  {
   "cell_type": "code",
   "execution_count": 7,
   "metadata": {},
   "outputs": [],
   "source": [
    "# Change hospital encoding and remove small hospitals\n",
    "data.Hospital = hospitals_encoding.loc[data.Hospital]['Source Site'].values"
   ]
  },
  {
   "cell_type": "code",
   "execution_count": null,
   "metadata": {},
   "outputs": [],
   "source": [
    "# Look at the outcome distributions (survival outcome non-parametric display)\n",
    "for type, count in data.type.value_counts().items():\n",
    "    data_type = data[data.type == type]\n",
    "    time, survival_prob = kaplan_meier_estimator(data_type.e.astype(bool), data_type.t / 365.)\n",
    "    plt.step(time, survival_prob, where=\"post\", label = type + ' (n = {})'.format(count), ls = ':', alpha = 0.75)\n",
    "time, survival_prob = kaplan_meier_estimator(data.e.astype(bool), data.t / 365.)\n",
    "plt.step(time, survival_prob, where=\"post\", label = \"Average\", alpha = 0.75)\n",
    "plt.ylim(0, 1)\n",
    "plt.legend()\n",
    "plt.ylabel(\"est. probability of survival $\\hat{S}(t)$\")\n",
    "plt.xlabel(\"time $t$ in years\")"
   ]
  },
  {
   "cell_type": "code",
   "execution_count": null,
   "metadata": {},
   "outputs": [],
   "source": [
    "# Group cancer types\n",
    "grouping = {\n",
    "    \"Gastrointestinal\": ['COAD', 'READ', 'ESCA', 'STAD', 'PAAD', 'CHOL', 'LIHC'],\n",
    "    \"Gynecological\": ['BRCA', 'CESC', 'OV', 'UCEC', 'UCS'],\n",
    "    \"Genitourinary\": ['KICH', 'KIRC', 'KIRP', 'PRAD', 'TGCT'],\n",
    "    \"Respiratory\": ['LUAD', 'LUSC'],\n",
    "    \"Skin\": ['ACC', 'HNSC', 'SKCM', 'UVM'],\n",
    "    \"Brain\": ['GBM', 'LGG'],\n",
    "    \"Other\": ['DLBC', 'MESO', 'SARC', 'THCA', 'THYM', 'PCPG', 'LAML', 'BLCA']\n",
    "}"
   ]
  },
  {
   "cell_type": "code",
   "execution_count": null,
   "metadata": {},
   "outputs": [],
   "source": [
    "# Display the new mean survival\n",
    "data['Grouping'] = data.type.replace({vi: k for k, v in grouping.items() for vi in v})\n",
    "for type in sorted(data.Grouping.unique()):\n",
    "    data_type = data[data.Grouping == type]\n",
    "    time, survival_prob = kaplan_meier_estimator(data_type.e.astype(bool), data_type.t / 365.)\n",
    "    plt.step(time, survival_prob, where=\"post\", label = type + ' (n = {})'.format(len(data_type)), ls = ':', alpha = 0.75)\n",
    "time, survival_prob = kaplan_meier_estimator(data.e.astype(bool), data.t / 365.)\n",
    "plt.step(time, survival_prob, where=\"post\", label = \"Average\", alpha = 0.75)\n",
    "plt.ylim(0, 1)\n",
    "plt.legend()\n",
    "plt.ylabel(\"est. probability of survival $\\hat{S}(t)$\")\n",
    "plt.xlabel(\"time $t$ in years\")"
   ]
  },
  {
   "cell_type": "markdown",
   "metadata": {},
   "source": [
    "### Explore reports"
   ]
  },
  {
   "cell_type": "code",
   "execution_count": null,
   "metadata": {},
   "outputs": [],
   "source": [
    "reports = pd.read_csv('data/TCGA_Reports.csv')\n",
    "reports.index = reports.patient_filename.str.split('.').apply(lambda x: x[0])\n",
    "reports = reports.drop(columns = 'patient_filename')"
   ]
  },
  {
   "cell_type": "code",
   "execution_count": null,
   "metadata": {},
   "outputs": [],
   "source": [
    "# Remove reports with no data and join with data\n",
    "reports = reports.dropna().join(data, how = 'inner')\n",
    "data = data.loc[reports.index.values]"
   ]
  },
  {
   "cell_type": "code",
   "execution_count": null,
   "metadata": {},
   "outputs": [],
   "source": [
    "reports.to_csv('data/TGCA_Merged.csv')"
   ]
  },
  {
   "cell_type": "code",
   "execution_count": null,
   "metadata": {},
   "outputs": [],
   "source": [
    "reports"
   ]
  }
 ],
 "metadata": {
  "kernelspec": {
   "display_name": "Jupyter",
   "language": "python",
   "name": "python3"
  },
  "language_info": {
   "codemirror_mode": {
    "name": "ipython",
    "version": 3
   },
   "file_extension": ".py",
   "mimetype": "text/x-python",
   "name": "python",
   "nbconvert_exporter": "python",
   "pygments_lexer": "ipython3",
   "version": "3.9.18"
  }
 },
 "nbformat": 4,
 "nbformat_minor": 2
}
