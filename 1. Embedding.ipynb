{
 "cells": [
  {
   "cell_type": "markdown",
   "metadata": {},
   "source": [
    "This notebook is to extract all the static embedding (no fine tuning) from the different LLMs.\n",
    "\n",
    "-> You can use this one to explore how prompting change the embedding for the LLM and use other models to extract embedding."
   ]
  },
  {
   "cell_type": "code",
   "execution_count": null,
   "metadata": {},
   "outputs": [],
   "source": [
    "import os\n",
    "import pandas as pd\n",
    "import numpy as np\n",
    "from tqdm import tqdm\n",
    "tqdm.pandas()"
   ]
  },
  {
   "cell_type": "code",
   "execution_count": null,
   "metadata": {},
   "outputs": [],
   "source": [
    "assert os.path.isfile('data/TGCA_Merged.csv'), 'Execute 0. Extraction.ipynb'"
   ]
  },
  {
   "cell_type": "code",
   "execution_count": null,
   "metadata": {},
   "outputs": [],
   "source": [
    "report = pd.read_csv('data/TGCA_Merged.csv', index_col = 0)\n",
    "report.head()"
   ]
  },
  {
   "cell_type": "markdown",
   "metadata": {},
   "source": [
    "### ChatGPT embedding"
   ]
  },
  {
   "cell_type": "code",
   "execution_count": null,
   "metadata": {},
   "outputs": [],
   "source": [
    "os.environ['OPENAI_API_KEY'] = open('KEY.txt', 'r').readline()"
   ]
  },
  {
   "cell_type": "code",
   "execution_count": null,
   "metadata": {},
   "outputs": [],
   "source": [
    "from openai import OpenAI\n",
    "client = OpenAI()"
   ]
  },
  {
   "cell_type": "code",
   "execution_count": null,
   "metadata": {},
   "outputs": [],
   "source": [
    "assert False, \"Are you sure you wanna run? $$$\"\n",
    "def get_embedding(text, model=\"text-embedding-ada-002\"):\n",
    "   return client.embeddings.create(input = [text], model = model).data[0].embedding\n",
    "\n",
    "report_gpt = pd.DataFrame(report.text.apply(lambda x: get_embedding(x)).tolist(), index = report.index)\n",
    "report_gpt.to_csv('data/gpt_embedding.csv')"
   ]
  },
  {
   "cell_type": "markdown",
   "metadata": {},
   "source": [
    "### Bio Clinical BERT"
   ]
  },
  {
   "cell_type": "code",
   "execution_count": null,
   "metadata": {},
   "outputs": [],
   "source": [
    "def get_embedding(text, tokenizer, model):\n",
    "   inputs = tokenizer(text, return_tensors=\"pt\", truncation = True, max_length = 512)\n",
    "   return model(**inputs).pooler_output.mean(0).detach().numpy()"
   ]
  },
  {
   "cell_type": "code",
   "execution_count": null,
   "metadata": {},
   "outputs": [],
   "source": [
    "from transformers import AutoTokenizer, AutoModel\n",
    "tokenizer = AutoTokenizer.from_pretrained(\"emilyalsentzer/Bio_ClinicalBERT\")\n",
    "model = AutoModel.from_pretrained(\"emilyalsentzer/Bio_ClinicalBERT\", output_attentions=True)"
   ]
  },
  {
   "cell_type": "code",
   "execution_count": null,
   "metadata": {},
   "outputs": [],
   "source": [
    "inputs = tokenizer(report.iloc[0].text, return_tensors=\"pt\", truncation = True, max_length = 512)\n",
    "output = model(**inputs)"
   ]
  },
  {
   "cell_type": "code",
   "execution_count": null,
   "metadata": {},
   "outputs": [],
   "source": [
    "report"
   ]
  },
  {
   "cell_type": "code",
   "execution_count": null,
   "metadata": {},
   "outputs": [],
   "source": [
    "assert False, \"Are you sure you wanna run? ~80 min\"\n",
    "report_clinicalBERT = pd.DataFrame(report.text.progress_apply(lambda x: get_embedding(x, tokenizer, model)).tolist(), index = report.index)\n",
    "report_clinicalBERT.to_csv('data/clinicalBERT_embedding.csv')"
   ]
  },
  {
   "cell_type": "markdown",
   "metadata": {},
   "source": [
    "### BERT"
   ]
  },
  {
   "cell_type": "code",
   "execution_count": null,
   "metadata": {},
   "outputs": [],
   "source": [
    "from transformers import BertTokenizer, BertModel\n",
    "tokenizer = BertTokenizer.from_pretrained('bert-base-uncased')\n",
    "model = BertModel.from_pretrained(\"bert-base-uncased\")"
   ]
  },
  {
   "cell_type": "code",
   "execution_count": null,
   "metadata": {},
   "outputs": [],
   "source": [
    "assert False, \"Are you sure you wanna run? ~80 min\"\n",
    "report_BERT = pd.DataFrame(report.text.progress_apply(lambda x: get_embedding(x, tokenizer, model)).tolist(), index = report.index)\n",
    "report_BERT.to_csv('data/BERT_embedding.csv')"
   ]
  },
  {
   "cell_type": "markdown",
   "metadata": {},
   "source": [
    "### Visualisation"
   ]
  },
  {
   "cell_type": "code",
   "execution_count": null,
   "metadata": {},
   "outputs": [],
   "source": [
    "from sklearn import manifold\n",
    "import matplotlib.pyplot as plt\n",
    "import pandas as pd\n",
    "import numpy as np"
   ]
  },
  {
   "cell_type": "code",
   "execution_count": null,
   "metadata": {},
   "outputs": [],
   "source": [
    "embedding = pd.read_csv('data/gpt_embedding.csv', index_col = 0)\n",
    "outcomes = pd.read_csv('data/TGCA_Merged.csv', index_col = 0)\n",
    "embedding = (embedding - embedding.mean()) / embedding.std()"
   ]
  },
  {
   "cell_type": "code",
   "execution_count": null,
   "metadata": {},
   "outputs": [],
   "source": [
    "outcomes = outcomes.loc[outcomes.type.dropna().index]\n",
    "embedding = embedding.loc[outcomes.index]"
   ]
  },
  {
   "cell_type": "code",
   "execution_count": null,
   "metadata": {},
   "outputs": [],
   "source": [
    "t_sne = manifold.TSNE(n_components = 2, random_state = 42)\n",
    "embed_tsne = t_sne.fit_transform(embedding)"
   ]
  },
  {
   "cell_type": "code",
   "execution_count": null,
   "metadata": {},
   "outputs": [],
   "source": [
    "cmap = plt.get_cmap('viridis', 4)\n",
    "plt.scatter(embed_tsne[:, 0], embed_tsne[:, 1], c = outcomes.ajcc_pathologic_tumor_stage.fillna(0), cmap = cmap, alpha = 0.5)\n",
    "cbar = plt.colorbar(label = \"Stage\")\n",
    "cbar.ax.set_yticks(0.75 * (np.arange(4) + 0.5), ['Unknown', 1, 2, 3])\n",
    "plt.xlim(-100, 100)\n",
    "plt.ylim(-100, 100)"
   ]
  },
  {
   "cell_type": "code",
   "execution_count": null,
   "metadata": {},
   "outputs": [],
   "source": [
    "plt.scatter(embed_tsne[:, 0], embed_tsne[:, 1], c = outcomes.t / 365., cmap = 'viridis', alpha = 0.5)\n",
    "plt.colorbar(label = \"Survival Time (in log years)\")\n",
    "plt.xlim(-100, 100)\n",
    "plt.ylim(-100, 100)"
   ]
  },
  {
   "cell_type": "code",
   "execution_count": null,
   "metadata": {},
   "outputs": [],
   "source": [
    "grouping = outcomes.grouping.astype('category').cat\n",
    "length = len(grouping.categories)\n",
    "cmap = plt.get_cmap('viridis', length)\n",
    "plt.scatter(embed_tsne[:, 0], embed_tsne[:, 1], c = grouping.codes, cmap = cmap, alpha = 0.75)\n",
    "cbar = plt.colorbar(label = \"Cancer Subgroups\", ticks = np.arange(length))\n",
    "cbar.ax.set_yticks( (length - 1) / length * (np.arange(length) + 0.5), grouping.categories)\n",
    "plt.xlim(-100, 100)\n",
    "plt.ylim(-100, 100)"
   ]
  },
  {
   "cell_type": "code",
   "execution_count": null,
   "metadata": {},
   "outputs": [],
   "source": [
    "embed_tsne = embed_tsne[outcomes.grouping == \"Gynecological\"]\n",
    "embedding = embedding[outcomes.grouping == \"Gynecological\"]\n",
    "outcomes = outcomes[outcomes.grouping == \"Gynecological\"]"
   ]
  },
  {
   "cell_type": "code",
   "execution_count": null,
   "metadata": {},
   "outputs": [],
   "source": [
    "length = len(outcomes.type.astype('category').cat.categories)\n",
    "cmap = plt.get_cmap('viridis', length)\n",
    "plt.scatter(embed_tsne[:, 0], embed_tsne[:, 1], c = outcomes.loc[embedding.index].type.astype('category').cat.codes, cmap = cmap, alpha = 0.5)\n",
    "cbar = plt.colorbar(label = \"Cancer Subgroups\", ticks = np.arange(length))\n",
    "cbar.ax.set_yticks( (length - 1) / length *(np.arange(length) + 0.5), outcomes.type.astype('category').cat.categories)\n",
    "plt.xlim(-100, 100)\n",
    "plt.ylim(-100, 100)"
   ]
  },
  {
   "cell_type": "code",
   "execution_count": null,
   "metadata": {},
   "outputs": [],
   "source": []
  }
 ],
 "metadata": {
  "kernelspec": {
   "display_name": "Jupyter",
   "language": "python",
   "name": "python3"
  },
  "language_info": {
   "codemirror_mode": {
    "name": "ipython",
    "version": 3
   },
   "file_extension": ".py",
   "mimetype": "text/x-python",
   "name": "python",
   "nbconvert_exporter": "python",
   "pygments_lexer": "ipython3",
   "version": "3.9.18"
  }
 },
 "nbformat": 4,
 "nbformat_minor": 2
}
